{
 "cells": [
  {
   "cell_type": "code",
   "execution_count": 1,
   "metadata": {},
   "outputs": [
    {
     "data": {
      "text/plain": [
       "dict_keys(['change_pts', 'spikes', 'end_vec', 'dat', 'gam', 'EPS', 'penalty', 'cost', 'estimated_calcium', 'spike_mag', 'pos_spike_mag'])"
      ]
     },
     "execution_count": 1,
     "metadata": {},
     "output_type": "execute_result"
    }
   ],
   "source": [
    "from FastLZeroSpikeInference import fast\n",
    "import numpy as np\n",
    "\n",
    "\n",
    "gam  = 0.98\n",
    "y = np.power(gam,np.concatenate([np.arange(100),np.arange(100)]))\n",
    "\n",
    "fit = fast.estimate_spikes(y,gam,1, False)\n",
    "\n",
    "fit.keys()"
   ]
  },
  {
   "cell_type": "code",
   "execution_count": 9,
   "metadata": {},
   "outputs": [
    {
     "name": "stdout",
     "output_type": "stream",
     "text": [
      "['/mnt/lilyDrive/sharedFieldAnalysis/CombGUITrack_raw/TdTG7_18_008_fld1_summaryROIsCombined.mat', '/mnt/lilyDrive/sharedFieldAnalysis/CombGUITrack_raw/TdTG7_18_009_fld1_summaryROIsCombined.mat', '/mnt/lilyDrive/sharedFieldAnalysis/CombGUITrack_raw/TdTG7_18_009_fld2_summaryROIsCombined.mat', '/mnt/lilyDrive/sharedFieldAnalysis/CombGUITrack_raw/TdTG7_18_010_fld1_summaryROIsCombined.mat', '/mnt/lilyDrive/sharedFieldAnalysis/CombGUITrack_raw/TdTG7_18_012_fld2_summaryROIsCombined.mat', '/mnt/lilyDrive/sharedFieldAnalysis/CombGUITrack_raw/TdTG7_18_014_fld2_summaryROIsCombined.mat', '/mnt/lilyDrive/sharedFieldAnalysis/CombGUITrack_raw/TdTG7_18_018_fld1_summaryROIsCombined.mat', '/mnt/lilyDrive/sharedFieldAnalysis/CombGUITrack_raw/TdTG7_18_019_fld1_summaryROIsCombined.mat', '/mnt/lilyDrive/sharedFieldAnalysis/CombGUITrack_raw/TdTG7_18_021_fld2_summaryROIsCombined.mat', '/mnt/lilyDrive/sharedFieldAnalysis/CombGUITrack_raw/TdTG7_18_022_fld1_summaryROIsCombined.mat', '/mnt/lilyDrive/sharedFieldAnalysis/CombGUITrack_raw/TdTG7_18_023_fld1_summaryROIsCombined.mat', '/mnt/lilyDrive/sharedFieldAnalysis/CombGUITrack_raw/TdTG7_18_023_fld2_summaryROIsCombined.mat', '/mnt/lilyDrive/sharedFieldAnalysis/CombGUITrack_raw/TdTG7_18_024_fld2_summaryROIsCombined.mat', '/mnt/lilyDrive/sharedFieldAnalysis/CombGUITrack_raw/TdTG7_18_025_fld2_summaryROIsCombined.mat', '/mnt/lilyDrive/sharedFieldAnalysis/CombGUITrack_raw/TdTG7_18_026_fld1_summaryROIsCombined.mat', '/mnt/lilyDrive/sharedFieldAnalysis/CombGUITrack_raw/TdTG7_18_027_fld1_summaryROIsCombined.mat', '/mnt/lilyDrive/sharedFieldAnalysis/CombGUITrack_raw/TdTG7_18_028_fld1_summaryROIsCombined.mat', '/mnt/lilyDrive/sharedFieldAnalysis/CombGUITrack_raw/TdTG7_19_005_fld1_summaryROIsCombined.mat', '/mnt/lilyDrive/sharedFieldAnalysis/CombGUITrack_raw/TdTG7_19_005_fld2_summaryROIsCombined.mat', '/mnt/lilyDrive/sharedFieldAnalysis/CombGUITrack_raw/TdTG7_19_006_fld1_summaryROIsCombined.mat', '/mnt/lilyDrive/sharedFieldAnalysis/CombGUITrack_raw/TdTG7_19_006_fld2_summaryROIsCombined.mat', '/mnt/lilyDrive/sharedFieldAnalysis/CombGUITrack_raw/TdTG7_19_007_fld1_summaryROIsCombined.mat', '/mnt/lilyDrive/sharedFieldAnalysis/CombGUITrack_raw/TdTG7_19_008_fld1_summaryROIsCombined.mat', '/mnt/lilyDrive/sharedFieldAnalysis/CombGUITrack_raw/TdTG7_19_009_fld1_summaryROIsCombined.mat', '/mnt/lilyDrive/sharedFieldAnalysis/CombGUITrack_raw/TdTG7_19_012_fld1_summaryROIsCombined.mat', '/mnt/lilyDrive/sharedFieldAnalysis/CombGUITrack_raw/TdTG7_19_013_fld1_summaryROIsCombined.mat', '/mnt/lilyDrive/sharedFieldAnalysis/CombGUITrack_raw/TdTG7_19_014_fld1_summaryROIsCombined.mat', '/mnt/lilyDrive/sharedFieldAnalysis/CombGUITrack_raw/TdTG7_19_015_fld1_summaryROIsCombined.mat', '/mnt/lilyDrive/sharedFieldAnalysis/CombGUITrack_raw/TdTG7_19_016_fld1_summaryROIsCombined.mat', '/mnt/lilyDrive/sharedFieldAnalysis/CombGUITrack_raw/TdTG7_19_016_fld2_summaryROIsCombined.mat']\n"
     ]
    }
   ],
   "source": [
    "# test read file, make sure I can read what is in my mounted drive\n",
    "import os\n",
    "\n",
    "# goto the directory with my data files\n",
    "start_dir = '/mnt/lilyDrive/sharedFieldAnalysis/CombGUITrack_raw'\n",
    "save_dir = '/mnt/lilyDrive/sharedFieldAnalysis/combGUITrack_deconv'\n",
    "\n",
    "# get a filelist.\n",
    "files = os.listdir(start_dir)\n",
    "filepath = [os.path.join(start_dir,f) for f in files]"
   ]
  }
 ],
 "metadata": {
  "kernelspec": {
   "display_name": "deconv",
   "language": "python",
   "name": "python3"
  },
  "language_info": {
   "codemirror_mode": {
    "name": "ipython",
    "version": 3
   },
   "file_extension": ".py",
   "mimetype": "text/x-python",
   "name": "python",
   "nbconvert_exporter": "python",
   "pygments_lexer": "ipython3",
   "version": "3.8.19"
  }
 },
 "nbformat": 4,
 "nbformat_minor": 2
}
