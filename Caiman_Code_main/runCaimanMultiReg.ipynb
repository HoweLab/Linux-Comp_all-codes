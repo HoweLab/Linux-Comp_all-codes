{
 "cells": [
  {
   "cell_type": "code",
   "execution_count": 72,
   "metadata": {},
   "outputs": [
    {
     "name": "stdout",
     "output_type": "stream",
     "text": [
      "The autoreload extension is already loaded. To reload it, use:\n",
      "  %reload_ext autoreload\n"
     ]
    }
   ],
   "source": [
    "from IPython import get_ipython\n",
    "from matplotlib import pyplot as plt\n",
    "import numpy as np\n",
    "import pickle\n",
    "import caiman as cm\n",
    "\n",
    "from caiman.base.rois import register_multisession\n",
    "from caiman.utils import visualization\n",
    "from caiman.utils.utils import download_demo\n",
    "\n",
    "try:\n",
    "    if __IPYTHON__:\n",
    "        get_ipython().run_line_magic('load_ext', 'autoreload')\n",
    "        get_ipython().run_line_magic('autoreload', '2')\n",
    "except NameError:\n",
    "    pass\n",
    "\n",
    "from scipy.io import loadmat\n",
    "from tifffile import imread\n",
    "import h5py"
   ]
  },
  {
   "cell_type": "code",
   "execution_count": 97,
   "metadata": {},
   "outputs": [],
   "source": [
    "# Load multisession data (spatial components and mean intensity templates) (should be replaced by actual data)\n",
    "file_path = download_demo('alignment.pickle')\n",
    "infile = open(file_path,'rb')\n",
    "data = pickle.load(infile)\n",
    "infile.close()\n",
    "\n",
    "spatial = data[0]\n",
    "templates = data[1]\n",
    "dims = templates[0].shape"
   ]
  },
  {
   "cell_type": "code",
   "execution_count": 99,
   "metadata": {},
   "outputs": [
    {
     "name": "stdout",
     "output_type": "stream",
     "text": [
      "[<Compressed Sparse Column sparse matrix of dtype 'float64'\n",
      "\twith 173570 stored elements and shape (262144, 453)>, <Compressed Sparse Column sparse matrix of dtype 'float64'\n",
      "\twith 143831 stored elements and shape (262144, 393)>, <Compressed Sparse Column sparse matrix of dtype 'float64'\n",
      "\twith 138942 stored elements and shape (262144, 375)>, <Compressed Sparse Column sparse matrix of dtype 'float64'\n",
      "\twith 131398 stored elements and shape (262144, 378)>, <Compressed Sparse Column sparse matrix of dtype 'float64'\n",
      "\twith 133891 stored elements and shape (262144, 376)>, <Compressed Sparse Column sparse matrix of dtype 'float64'\n",
      "\twith 133933 stored elements and shape (262144, 373)>]\n"
     ]
    }
   ],
   "source": [
    "print(spatial)"
   ]
  },
  {
   "cell_type": "code",
   "execution_count": 96,
   "metadata": {},
   "outputs": [
    {
     "name": "stdout",
     "output_type": "stream",
     "text": [
      "['A', 'A_thr', 'Ab', 'Ab_dense', 'AtA', 'AtY_buf', 'C', 'CC', 'CY', 'C_on', 'Cf', 'F_dff', 'OASISinstances', 'R', 'S', 'SNR_comp', 'W', 'YrA', 'Yr_buf', 'b', 'b0', 'bl', 'c1', 'center', 'cnn_preds', 'dims', 'discarded_components', 'ecc', 'f', 'g', 'idx_components', 'idx_components_bad', 'ind_new', 'lam', 'mn', 'neurons_sn', 'noisyC', 'nr', 'psx', 'r_values', 'rho_buf', 'shifts', 'sn', 'sv', 'vr']\n",
      "<KeysViewHDF5 ['data', 'indices', 'indptr', 'shape']>\n",
      "<class 'numpy.ndarray'>\n",
      "[502 706]\n",
      "(185634,)\n"
     ]
    },
    {
     "ename": "AttributeError",
     "evalue": "'numpy.float64' object has no attribute 'toarray'",
     "output_type": "error",
     "traceback": [
      "\u001b[0;31m---------------------------------------------------------------------------\u001b[0m",
      "\u001b[0;31mAttributeError\u001b[0m                            Traceback (most recent call last)",
      "Cell \u001b[0;32mIn[96], line 16\u001b[0m\n\u001b[1;32m     13\u001b[0m \u001b[38;5;28mprint\u001b[39m(dims)\n\u001b[1;32m     14\u001b[0m \u001b[38;5;28mprint\u001b[39m(spatial\u001b[38;5;241m.\u001b[39mshape)\n\u001b[0;32m---> 16\u001b[0m spatial_union, assignments, matchings \u001b[38;5;241m=\u001b[39m \u001b[43mregister_multisession\u001b[49m\u001b[43m(\u001b[49m\u001b[43mA\u001b[49m\u001b[38;5;241;43m=\u001b[39;49m\u001b[43mspatial\u001b[49m\u001b[43m,\u001b[49m\u001b[43m \u001b[49m\u001b[43mdims\u001b[49m\u001b[38;5;241;43m=\u001b[39;49m\u001b[43mdims\u001b[49m\u001b[43m,\u001b[49m\u001b[43m \u001b[49m\u001b[43mtemplates\u001b[49m\u001b[38;5;241;43m=\u001b[39;49m\u001b[43mtemplates\u001b[49m\u001b[43m)\u001b[49m\n",
      "File \u001b[0;32m~/miniforge3/envs/caiman/lib/python3.11/site-packages/caiman/base/rois.py:620\u001b[0m, in \u001b[0;36mregister_multisession\u001b[0;34m(A, dims, templates, align_flag, max_thr, use_opt_flow, thresh_cost, max_dist, enclosed_thr)\u001b[0m\n\u001b[1;32m    617\u001b[0m \u001b[38;5;28;01mif\u001b[39;00m n_sessions \u001b[38;5;241m<\u001b[39m\u001b[38;5;241m=\u001b[39m \u001b[38;5;241m1\u001b[39m:\n\u001b[1;32m    618\u001b[0m     \u001b[38;5;28;01mraise\u001b[39;00m \u001b[38;5;167;01mException\u001b[39;00m(\u001b[38;5;124m'\u001b[39m\u001b[38;5;124mnumber of sessions must be greater than 1\u001b[39m\u001b[38;5;124m'\u001b[39m)\n\u001b[0;32m--> 620\u001b[0m A \u001b[38;5;241m=\u001b[39m \u001b[43m[\u001b[49m\u001b[43ma\u001b[49m\u001b[38;5;241;43m.\u001b[39;49m\u001b[43mtoarray\u001b[49m\u001b[43m(\u001b[49m\u001b[43m)\u001b[49m\u001b[43m \u001b[49m\u001b[38;5;28;43;01mif\u001b[39;49;00m\u001b[43m \u001b[49m\u001b[38;5;124;43m'\u001b[39;49m\u001b[38;5;124;43mndarray\u001b[39;49m\u001b[38;5;124;43m'\u001b[39;49m\u001b[43m \u001b[49m\u001b[38;5;129;43;01mnot\u001b[39;49;00m\u001b[43m \u001b[49m\u001b[38;5;129;43;01min\u001b[39;49;00m\u001b[43m \u001b[49m\u001b[38;5;28;43mstr\u001b[39;49m\u001b[43m(\u001b[49m\u001b[38;5;28;43mtype\u001b[39;49m\u001b[43m(\u001b[49m\u001b[43ma\u001b[49m\u001b[43m)\u001b[49m\u001b[43m)\u001b[49m\u001b[43m \u001b[49m\u001b[38;5;28;43;01melse\u001b[39;49;00m\u001b[43m \u001b[49m\u001b[43ma\u001b[49m\u001b[43m \u001b[49m\u001b[38;5;28;43;01mfor\u001b[39;49;00m\u001b[43m \u001b[49m\u001b[43ma\u001b[49m\u001b[43m \u001b[49m\u001b[38;5;129;43;01min\u001b[39;49;00m\u001b[43m \u001b[49m\u001b[43mA\u001b[49m\u001b[43m]\u001b[49m\n\u001b[1;32m    622\u001b[0m A_union \u001b[38;5;241m=\u001b[39m A[\u001b[38;5;241m0\u001b[39m]\u001b[38;5;241m.\u001b[39mcopy()\n\u001b[1;32m    623\u001b[0m matchings \u001b[38;5;241m=\u001b[39m []\n",
      "File \u001b[0;32m~/miniforge3/envs/caiman/lib/python3.11/site-packages/caiman/base/rois.py:620\u001b[0m, in \u001b[0;36m<listcomp>\u001b[0;34m(.0)\u001b[0m\n\u001b[1;32m    617\u001b[0m \u001b[38;5;28;01mif\u001b[39;00m n_sessions \u001b[38;5;241m<\u001b[39m\u001b[38;5;241m=\u001b[39m \u001b[38;5;241m1\u001b[39m:\n\u001b[1;32m    618\u001b[0m     \u001b[38;5;28;01mraise\u001b[39;00m \u001b[38;5;167;01mException\u001b[39;00m(\u001b[38;5;124m'\u001b[39m\u001b[38;5;124mnumber of sessions must be greater than 1\u001b[39m\u001b[38;5;124m'\u001b[39m)\n\u001b[0;32m--> 620\u001b[0m A \u001b[38;5;241m=\u001b[39m [\u001b[43ma\u001b[49m\u001b[38;5;241;43m.\u001b[39;49m\u001b[43mtoarray\u001b[49m() \u001b[38;5;28;01mif\u001b[39;00m \u001b[38;5;124m'\u001b[39m\u001b[38;5;124mndarray\u001b[39m\u001b[38;5;124m'\u001b[39m \u001b[38;5;129;01mnot\u001b[39;00m \u001b[38;5;129;01min\u001b[39;00m \u001b[38;5;28mstr\u001b[39m(\u001b[38;5;28mtype\u001b[39m(a)) \u001b[38;5;28;01melse\u001b[39;00m a \u001b[38;5;28;01mfor\u001b[39;00m a \u001b[38;5;129;01min\u001b[39;00m A]\n\u001b[1;32m    622\u001b[0m A_union \u001b[38;5;241m=\u001b[39m A[\u001b[38;5;241m0\u001b[39m]\u001b[38;5;241m.\u001b[39mcopy()\n\u001b[1;32m    623\u001b[0m matchings \u001b[38;5;241m=\u001b[39m []\n",
      "\u001b[0;31mAttributeError\u001b[0m: 'numpy.float64' object has no attribute 'toarray'"
     ]
    }
   ],
   "source": [
    "filepath = '/home/howelab/Desktop/testData_caiman_multiReg/gui_rec002/caimanOuputs_2025_3_31_13_35/ConcatenatedMovie_MC_caimanEval_Python.hdf5'\n",
    "f = h5py.File(filepath)\n",
    "\n",
    "grp = f['estimates']\n",
    "\n",
    "print(list(grp.keys()))\n",
    "print(grp['A'].keys())\n",
    "\n",
    "dims = f['dims'][()]\n",
    "spatial = grp['A']['data'][:]\n",
    "templates = imread('/home/howelab/Desktop/testData_caiman_multiReg/gui_rec002/ConcatenatedMovie_MC_avg_registered.tif')\n",
    "print(grp['A']['data'].shape)\n",
    "print(dims)\n",
    "print(spatial.shape)\n",
    "\n",
    "spatial_union, assignments, matchings = register_multisession(A=spatial, dims=dims, templates=templates)"
   ]
  },
  {
   "cell_type": "code",
   "execution_count": 71,
   "metadata": {},
   "outputs": [
    {
     "name": "stdout",
     "output_type": "stream",
     "text": [
      "dict_keys(['__header__', '__version__', '__globals__', 'ica_segments', 'timeTaken', 'ROIContours', 'good_components', 'bad_components', 'temporal_components', 'bckgrnd_spatial', 'temporal_bckgrnd_components', 'residual_components', 'dFF', 'SnR', 'rVals', 'cnn'])\n",
      "(502, 706)\n",
      "(706, 532)\n"
     ]
    }
   ],
   "source": [
    "# Load multisession data (spatial components and mean intensity templates) (should be replaced by actual data)\n",
    "file_path = '/home/howelab/Desktop/testData_caiman_multiReg/gui_rec002/caimanOuputs_2025_3_31_13_35/ConcatenatedMovie_MC_caimanEval_2025_3_31_13_35.mat'\n",
    "\n",
    "dat = loadmat(file_path)\n",
    "\n",
    "print(dat.keys())\n",
    "\n",
    "A = dat['ica_segments']\n",
    "dims = A[0].shape\n",
    "templates = imread('/home/howelab/Desktop/testData_caiman_multiReg/gui_rec002/ConcatenatedMovie_MC_avg_registered.tif')\n",
    "\n",
    "print(templates.shape)\n",
    "print(dims)\n",
    "# for name in f:\n",
    "#     print(name)\n",
    "#     pass\n",
    "\n",
    "# print(f['estimates']['A']['data'][:])\n",
    "\n",
    "# spatial = f['estimates']['A']['data'][:]\n",
    "# templates = data[1]\n",
    "# dims = templates[0].shape\n"
   ]
  }
 ],
 "metadata": {
  "kernelspec": {
   "display_name": "caiman",
   "language": "python",
   "name": "python3"
  },
  "language_info": {
   "codemirror_mode": {
    "name": "ipython",
    "version": 3
   },
   "file_extension": ".py",
   "mimetype": "text/x-python",
   "name": "python",
   "nbconvert_exporter": "python",
   "pygments_lexer": "ipython3",
   "version": "3.11.11"
  }
 },
 "nbformat": 4,
 "nbformat_minor": 2
}
