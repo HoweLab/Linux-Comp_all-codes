{
 "cells": [
  {
   "cell_type": "code",
   "execution_count": null,
   "metadata": {},
   "outputs": [
    {
     "name": "stderr",
     "output_type": "stream",
     "text": [
      "2023-04-19 10:21:26.974841: I tensorflow/core/platform/cpu_feature_guard.cc:193] This TensorFlow binary is optimized with oneAPI Deep Neural Network Library (oneDNN) to use the following CPU instructions in performance-critical operations:  SSE4.1 SSE4.2 AVX AVX2 FMA\n",
      "To enable them in other operations, rebuild TensorFlow with the appropriate compiler flags.\n"
     ]
    }
   ],
   "source": [
    "import caiman as cm\n",
    "from caiman.base.rois import register_multisession\n",
    "from caiman.utils import visualization\n",
    "from caiman.utils.utils import download_demo\n",
    "from matplotlib import pyplot as plt\n",
    "import numpy as np\n",
    "from caiman.source_extraction.cnmf.cnmf import load_CNMF\n",
    "from caiman.mmapping import save_memmap\n",
    "from scipy.sparse import csc_matrix\n",
    "from caiman.utils.visualization import plot_contours, nb_view_patches, nb_plot_contour\n",
    "import os\n",
    "from scipy.io import savemat\n",
    "\n",
    "#start parallel processing, should just make things faster\n",
    "\n",
    "###STARTS CLUSTERS \n",
    "        #%% start a cluster for parallel processing (if a cluster already exists it will be closed and a new session will be opened)\n",
    "if 'dview' in locals():\n",
    "    cm.stop_server(dview=dview)\n",
    "c, dview, n_processes = cm.cluster.setup_cluster(\n",
    "    backend='local', n_processes=None, single_thread=False)\n",
    "#%% restart cluster to clean up memory\n",
    "cm.stop_server(dview=dview)\n",
    "c, dview, n_processes = cm.cluster.setup_cluster(\n",
    "    backend='local', n_processes=None, single_thread=False)"
   ]
  },
  {
   "cell_type": "code",
   "execution_count": 33,
   "metadata": {},
   "outputs": [],
   "source": [
    "#paths to the h5 files\n",
    "fileList = ['/mnt/Brenna_Feb2023/TdTG7_19/20230327/gui/caimanOuputs_2023_4_2_16_1/ConcatenatedMovie_MC_reg_caimanEval_Python.hdf5', \n",
    "'/mnt/Brenna_Feb2023/TdTG7_19/20230327/track_beforegain/caimanOuputs_2023_4_2_18_9/ConcatenatedMovie_MC_reg_caimanEval_Python.hdf5']\n",
    "\n",
    "sessionList = []\n",
    "for file in fileList:\n",
    "    currentEstimate = load_CNMF(file)\n",
    "    sessionList.append(currentEstimate)\n",
    "\n",
    "#paths to the movies\n",
    "imageFileList = ['/mnt/Brenna_Feb2023/TdTG7_19/20230327/gui/ConcatenatedMovie_MC_reg.tif', \n",
    "'/mnt/Brenna_Feb2023/TdTG7_19/20230327/track_beforegain/ConcatenatedMovie_MC_reg.tif']\n",
    "\n",
    "for cF in range(len(imageFileList)):\n",
    "    file = imageFileList[cF]\n",
    "    dataDir = os.path.dirname(file)\n",
    "    fileName = os.path.basename(file)[0:-4]\n",
    "    currentMemMap = save_memmap([file], base_name=fileName + 'mmapFile', order='C')\n",
    "\n",
    "    #make the correlation image\n",
    "    Yr, dims, T = cm.load_memmap(currentMemMap)\n",
    "    images = np.reshape(Yr.T, [T] + list(dims), order='F')\n",
    "    Cn = cm.local_correlations(images.transpose(1,2,0)) \n",
    "    #save it into the caiman object\n",
    "    currentCNM = sessionList[cF]\n",
    "    currentCNM.Cn = Cn\n",
    "    #resave h5 with the correlations image\n",
    "    currentCNM.save(os.path.join(dataDir, fileName + '_caimanEval_Python_testingRegisterFile.hdf5'))\n",
    "    #should remove the memmapped file once the correlations imagee is made\n",
    "    os.remove(os.path.join(dataDir ,currentMemMap))"
   ]
  },
  {
   "cell_type": "code",
   "execution_count": 42,
   "metadata": {},
   "outputs": [
    {
     "name": "stderr",
     "output_type": "stream",
     "text": [
      "/home/howelab/anaconda3/envs/caiman/lib/python3.10/site-packages/scipy/sparse/_index.py:146: SparseEfficiencyWarning: Changing the sparsity structure of a csc_matrix is expensive. lil_matrix is more efficient.\n",
      "  self._set_arrayXarray(i, j, x)\n"
     ]
    }
   ],
   "source": [
    "#After your files are memory mapped and the new h5 file with the correlations field is saved you can put the paths to those h5 files in session list and run this cell. \n",
    "sessionList = []\n",
    "CI = []\n",
    "spatialComps = []\n",
    "for cS in sessionList:\n",
    "    currentSession = load_CNMF(cS)\n",
    "    CI.append(currentSession.Cn)\n",
    "    spatialComps.append(currentSession.estimates.A)\n",
    "\n",
    "\n",
    "A = [csc_matrix(A1/A1.sum(0)) for A1 in spatialComps]\n",
    "\n",
    "dims = [ci.shape for ci in CI]\n",
    "dims_comb = tuple(np.array(dims).max(axis=0))\n",
    "\n",
    "#this is going to do a lot of reshaping and padding because all the videos are not the same size a lot of the time\n",
    "masks = [np.reshape(A_.toarray(), dims_ + (-1,), order='F').transpose(2, 0, 1)\n",
    "             for A_, dims_ in zip(A, dims)]\n",
    "masks = [np.pad(m, list(zip([0]*3,[0, *(np.array(dims_comb) - m.shape[1:])])),\n",
    "                'constant', constant_values=0) for m in masks]\n",
    "CI = [np.pad(ci, list(zip([0]*2, (np.array(dims_comb) - ci.shape))),\n",
    "             'constant', constant_values=0) for ci in CI]\n",
    "\n",
    "A = [csc_matrix(m.transpose(1,2,0).reshape((-1, m.shape[0]), order='F')) for m in masks]\n",
    "\n",
    "#max threshold parameter before binarization (not totally sure what this means but seems like it is important)\n",
    "max_thr = 0.1\n",
    "#the actual line that does all of the registrations stuff\n",
    "spatial_union, assignments, matchings = register_multisession(A, dims_comb, CI, max_thr=max_thr)\n",
    "#This link could be helpful for understanding the outputs: https://caiman.readthedocs.io/en/master/core_functions.html#caiman.base.rois.register_multisession\n",
    "\n",
    "matInfo = {}\n",
    "matInfo['spatial_union'] = spatial_union\n",
    "matInfo['assignments'] = assignments\n",
    "matInfo['matchings'] = matchings\n",
    "\n",
    "savemat(os.path.join(dataDir, fileName + 'registration.mat'), matInfo)\n"
   ]
  },
  {
   "cell_type": "code",
   "execution_count": null,
   "metadata": {},
   "outputs": [],
   "source": [
    "#we can then also filter those outputs and say well we only want ROIs that are active in 5 out of 6 sessions (or in this case 2)\n",
    "\n",
    "# Filter components by number of sessions the component could be found\n",
    "\n",
    "n_reg = 2  # minimal number of sessions that each component has to be registered in\n",
    "\n",
    "# Use number of non-NaNs in each row to filter out components that were not registered in enough sessions\n",
    "assignments_filtered = np.array(np.nan_to_num(assignments[np.sum(~np.isnan(assignments), axis=1) >= n_reg]), dtype=int)\n",
    "\n",
    "# Use filtered indices to select the corresponding spatial components\n",
    "spatial_filtered = A[0][:, assignments_filtered[:, 0]]\n",
    "\n",
    "# Plot spatial components of the selected components on the template of the last session\n",
    "visualization.plot_contours(spatial_filtered, CI[-1])"
   ]
  },
  {
   "cell_type": "code",
   "execution_count": 44,
   "metadata": {},
   "outputs": [],
   "source": [
    "#useful functions for plotting an image and the ROIs you want over it\n",
    "plot = nb_plot_contour(CI[0], spatial_filtered, dims_comb[0], dims_comb[1])"
   ]
  },
  {
   "cell_type": "code",
   "execution_count": 41,
   "metadata": {},
   "outputs": [],
   "source": [
    "#Load individual caiman sessions (the h5)\n",
    "\n",
    "# session1= load_CNMF('/mnt/Brenna_Feb2023/TdTG7_19/20230327/gui/ConcatenatedMovie_MC_reg_caimanEval_Python_testingRegisterFile.hdf5')\n",
    "# session2 = load_CNMF('/mnt/Brenna_Feb2023/TdTG7_19/20230327/track_beforegain/ConcatenatedMovie_MC_reg_caimanEval_Python_testingRegisterFile.hdf5')"
   ]
  }
 ],
 "metadata": {
  "kernelspec": {
   "display_name": "caiman",
   "language": "python",
   "name": "python3"
  },
  "language_info": {
   "codemirror_mode": {
    "name": "ipython",
    "version": 3
   },
   "file_extension": ".py",
   "mimetype": "text/x-python",
   "name": "python",
   "nbconvert_exporter": "python",
   "pygments_lexer": "ipython3",
   "version": "3.10.9"
  },
  "orig_nbformat": 4,
  "vscode": {
   "interpreter": {
    "hash": "07c7d5f664bc7ed57bde1e5dbd9f7ff61bc675706c7fa377e108b68525ddcc7b"
   }
  }
 },
 "nbformat": 4,
 "nbformat_minor": 2
}
