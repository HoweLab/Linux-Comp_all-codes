{
 "cells": [
  {
   "cell_type": "code",
   "execution_count": 1,
   "metadata": {},
   "outputs": [
    {
     "name": "stderr",
     "output_type": "stream",
     "text": [
      "2023-04-14 14:44:05.422245: I tensorflow/core/platform/cpu_feature_guard.cc:193] This TensorFlow binary is optimized with oneAPI Deep Neural Network Library (oneDNN) to use the following CPU instructions in performance-critical operations:  SSE4.1 SSE4.2 AVX AVX2 FMA\n",
      "To enable them in other operations, rebuild TensorFlow with the appropriate compiler flags.\n"
     ]
    }
   ],
   "source": [
    "import numpy as np\n",
    "import caiman as cm\n",
    "fname = '/home/howelab/Desktop/testData/testBig/ConcatenatedMovie_MC_reg.tif'  # path to file\n",
    "m = cm.load(fname)  # load the file"
   ]
  },
  {
   "cell_type": "code",
   "execution_count": 2,
   "metadata": {},
   "outputs": [],
   "source": [
    "T = m.shape[0]  # total number of frames for the file\n",
    "L = 350  # length of each individual file\n",
    "fileparts = fname.split(\".\")\n",
    "for t in np.arange(0,T,L):\n",
    "   numString = str(t//L).zfill(4)\n",
    "   m[t:t+L].save((\".\").join(fileparts[:-1]) + '_' + numString + '.' + fileparts[-1])"
   ]
  },
  {
   "cell_type": "code",
   "execution_count": null,
   "metadata": {},
   "outputs": [],
   "source": [
    "import os\n",
    "import glob\n",
    "rootDir = '/home/howelab/Desktop/testData/testBig'\n",
    "fls = glob.glob(os.path.join(rootDir,'*.tif'))  #  change tif to the extension you need\n",
    "fls.sort()\n",
    "fls = fls[1:]\n",
    "print(fls)\n"
   ]
  },
  {
   "cell_type": "code",
   "execution_count": null,
   "metadata": {},
   "outputs": [],
   "source": [
    "m = cm.load_movie_chain(fls)\n",
    "m.save(os.path.join(rootDir,'data.tif'))"
   ]
  }
 ],
 "metadata": {
  "kernelspec": {
   "display_name": "caiman",
   "language": "python",
   "name": "python3"
  },
  "language_info": {
   "codemirror_mode": {
    "name": "ipython",
    "version": 3
   },
   "file_extension": ".py",
   "mimetype": "text/x-python",
   "name": "python",
   "nbconvert_exporter": "python",
   "pygments_lexer": "ipython3",
   "version": "3.10.9"
  },
  "orig_nbformat": 4,
  "vscode": {
   "interpreter": {
    "hash": "07c7d5f664bc7ed57bde1e5dbd9f7ff61bc675706c7fa377e108b68525ddcc7b"
   }
  }
 },
 "nbformat": 4,
 "nbformat_minor": 2
}
